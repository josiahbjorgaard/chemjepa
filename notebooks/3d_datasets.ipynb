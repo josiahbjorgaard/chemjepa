{
 "cells": [
  {
   "cell_type": "code",
   "execution_count": 9,
   "id": "b5af6a9e",
   "metadata": {},
   "outputs": [],
   "source": [
    "from torchmdnet import datasets"
   ]
  },
  {
   "cell_type": "code",
   "execution_count": 10,
   "id": "7d26f92e",
   "metadata": {},
   "outputs": [],
   "source": [
    "from torchmdnet.data import DataModule"
   ]
  },
  {
   "cell_type": "code",
   "execution_count": 22,
   "id": "e94767b2",
   "metadata": {},
   "outputs": [],
   "source": [
    "dataset = datasets.qm9.QM9('../data/.',transform=None,label='free_energy')"
   ]
  },
  {
   "cell_type": "code",
   "execution_count": 45,
   "id": "2b5d0b57",
   "metadata": {},
   "outputs": [
    {
     "ename": "TypeError",
     "evalue": "ANIBase.__init__() got an unexpected keyword argument 'mol_ids'",
     "output_type": "error",
     "traceback": [
      "\u001b[0;31m---------------------------------------------------------------------------\u001b[0m",
      "\u001b[0;31mTypeError\u001b[0m                                 Traceback (most recent call last)",
      "Cell \u001b[0;32mIn[45], line 1\u001b[0m\n\u001b[0;32m----> 1\u001b[0m dataset \u001b[38;5;241m=\u001b[39m datasets\u001b[38;5;241m.\u001b[39mANI1X(\u001b[38;5;124m'\u001b[39m\u001b[38;5;124m../data/.\u001b[39m\u001b[38;5;124m'\u001b[39m, mol_ids\u001b[38;5;241m=\u001b[39m\u001b[38;5;28;01mTrue\u001b[39;00m)\n",
      "\u001b[0;31mTypeError\u001b[0m: ANIBase.__init__() got an unexpected keyword argument 'mol_ids'"
     ]
    }
   ],
   "source": [
    "dataset = datasets.ANI1X('../data/.')"
   ]
  },
  {
   "cell_type": "code",
   "execution_count": 44,
   "id": "06950f0d",
   "metadata": {},
   "outputs": [
    {
     "ename": "TypeError",
     "evalue": "'ANI1X' object is not callable",
     "output_type": "error",
     "traceback": [
      "\u001b[0;31m---------------------------------------------------------------------------\u001b[0m",
      "\u001b[0;31mTypeError\u001b[0m                                 Traceback (most recent call last)",
      "Cell \u001b[0;32mIn[44], line 1\u001b[0m\n\u001b[0;32m----> 1\u001b[0m dataset()\n",
      "\u001b[0;31mTypeError\u001b[0m: 'ANI1X' object is not callable"
     ]
    }
   ],
   "source": [
    "dataset()"
   ]
  },
  {
   "cell_type": "code",
   "execution_count": 20,
   "id": "23f3a7db",
   "metadata": {},
   "outputs": [
    {
     "name": "stdout",
     "output_type": "stream",
     "text": [
      "qm9_v3.pt\r\n"
     ]
    }
   ],
   "source": [
    "!ls raw"
   ]
  },
  {
   "cell_type": "code",
   "execution_count": 33,
   "id": "fe7d997c",
   "metadata": {},
   "outputs": [],
   "source": [
    "import h5py\n",
    "from tqdm import tqdm"
   ]
  },
  {
   "cell_type": "code",
   "execution_count": 34,
   "id": "dc6ef534",
   "metadata": {},
   "outputs": [
    {
     "name": "stderr",
     "output_type": "stream",
     "text": [
      "Molecules:   0%|                                                        | 2/3114 [00:00<11:27,  4.53it/s]"
     ]
    },
    {
     "name": "stdout",
     "output_type": "stream",
     "text": [
      "C10H10\n",
      "C10H10N2\n"
     ]
    },
    {
     "name": "stderr",
     "output_type": "stream",
     "text": [
      "Molecules:   0%|                                                        | 5/3114 [00:00<06:39,  7.78it/s]"
     ]
    },
    {
     "name": "stdout",
     "output_type": "stream",
     "text": [
      "C10H10N2O1\n",
      "C10H10N2O2\n",
      "C10H10N4\n",
      "C10H10N4O1\n",
      "C10H10N4O2\n"
     ]
    },
    {
     "name": "stderr",
     "output_type": "stream",
     "text": [
      "Molecules:   0%|▏                                                      | 10/3114 [00:01<04:31, 11.44it/s]"
     ]
    },
    {
     "name": "stdout",
     "output_type": "stream",
     "text": [
      "C10H10O1\n",
      "C10H10O2\n",
      "C10H10O3\n",
      "C10H10O4\n"
     ]
    },
    {
     "name": "stderr",
     "output_type": "stream",
     "text": [
      "Molecules:   0%|▏                                                      | 14/3114 [00:01<03:40, 14.07it/s]"
     ]
    },
    {
     "name": "stdout",
     "output_type": "stream",
     "text": [
      "C10H10O5\n",
      "C10H11N1\n",
      "C10H11N1O1\n",
      "C10H11N1O2\n"
     ]
    },
    {
     "name": "stderr",
     "output_type": "stream",
     "text": [
      "Molecules:   1%|▎                                                      | 18/3114 [00:01<03:24, 15.10it/s]"
     ]
    },
    {
     "name": "stdout",
     "output_type": "stream",
     "text": [
      "C10H11N1O3\n",
      "C10H11N3\n",
      "C10H11N3O1\n",
      "C10H11N3O2\n"
     ]
    },
    {
     "name": "stderr",
     "output_type": "stream",
     "text": [
      "\r",
      "Molecules:   1%|▎                                                      | 20/3114 [00:01<04:21, 11.83it/s]"
     ]
    },
    {
     "name": "stdout",
     "output_type": "stream",
     "text": [
      "C10H11N5\n",
      "C10H12\n"
     ]
    },
    {
     "name": "stderr",
     "output_type": "stream",
     "text": [
      "Molecules:   1%|▍                                                      | 24/3114 [00:02<04:39, 11.05it/s]"
     ]
    },
    {
     "name": "stdout",
     "output_type": "stream",
     "text": [
      "C10H12N2\n",
      "C10H12N2O1\n",
      "C10H12N2O2\n",
      "C10H12N2O3\n",
      "C10H12N2O4\n"
     ]
    },
    {
     "name": "stderr",
     "output_type": "stream",
     "text": [
      "Molecules:   1%|▌                                                      | 30/3114 [00:02<04:51, 10.59it/s]"
     ]
    },
    {
     "name": "stdout",
     "output_type": "stream",
     "text": [
      "C10H12N4\n",
      "C10H12N4O1\n",
      "C10H12N4O2\n",
      "C10H12N6\n"
     ]
    },
    {
     "name": "stderr",
     "output_type": "stream",
     "text": [
      "Molecules:   1%|▌                                                      | 34/3114 [00:03<04:00, 12.78it/s]"
     ]
    },
    {
     "name": "stdout",
     "output_type": "stream",
     "text": [
      "C10H12O1\n",
      "C10H12O2\n",
      "C10H12O3\n",
      "C10H12O4\n"
     ]
    },
    {
     "name": "stderr",
     "output_type": "stream",
     "text": [
      "Molecules:   1%|▋                                                      | 39/3114 [00:03<03:50, 13.37it/s]"
     ]
    },
    {
     "name": "stdout",
     "output_type": "stream",
     "text": [
      "C10H13N1\n",
      "C10H13N1O1\n",
      "C10H13N1O2\n",
      "C10H13N1O3\n",
      "C10H13N1O4\n",
      "C10H13N3\n",
      "C10H13N3O1\n"
     ]
    },
    {
     "name": "stderr",
     "output_type": "stream",
     "text": [
      "Molecules:   2%|▊                                                      | 47/3114 [00:04<04:01, 12.68it/s]"
     ]
    },
    {
     "name": "stdout",
     "output_type": "stream",
     "text": [
      "C10H13N3O2\n",
      "C10H13N5\n",
      "C10H13N5O1\n",
      "C10H14\n",
      "C10H14N2\n",
      "C10H14N2O1\n"
     ]
    },
    {
     "name": "stderr",
     "output_type": "stream",
     "text": [
      "Molecules:   2%|▉                                                      | 51/3114 [00:04<04:19, 11.81it/s]"
     ]
    },
    {
     "name": "stdout",
     "output_type": "stream",
     "text": [
      "C10H14N2O2\n",
      "C10H14N2O3\n",
      "C10H14N2O4\n",
      "C10H14N4\n",
      "C10H14N4O1\n",
      "C10H14N4O2\n"
     ]
    },
    {
     "name": "stderr",
     "output_type": "stream",
     "text": [
      "Molecules:   2%|█                                                      | 57/3114 [00:04<03:27, 14.76it/s]"
     ]
    },
    {
     "name": "stdout",
     "output_type": "stream",
     "text": [
      "C10H14N4O3\n",
      "C10H14N4O5\n",
      "C10H14N6\n",
      "C10H14O1\n",
      "C10H14O2\n",
      "C10H14O3\n"
     ]
    },
    {
     "name": "stderr",
     "output_type": "stream",
     "text": [
      "Molecules:   2%|█                                                      | 62/3114 [00:05<03:26, 14.76it/s]"
     ]
    },
    {
     "name": "stdout",
     "output_type": "stream",
     "text": [
      "C10H14O4\n",
      "C10H14O5\n",
      "C10H15N1\n"
     ]
    },
    {
     "name": "stderr",
     "output_type": "stream",
     "text": [
      "Molecules:   2%|█▏                                                     | 66/3114 [00:05<03:36, 14.07it/s]"
     ]
    },
    {
     "name": "stdout",
     "output_type": "stream",
     "text": [
      "C10H15N1O1\n",
      "C10H15N1O2\n",
      "C10H15N1O3\n",
      "C10H15N1O4\n",
      "C10H15N3\n"
     ]
    },
    {
     "name": "stderr",
     "output_type": "stream",
     "text": [
      "Molecules:   2%|█▎                                                     | 71/3114 [00:05<03:31, 14.42it/s]"
     ]
    },
    {
     "name": "stdout",
     "output_type": "stream",
     "text": [
      "C10H15N3O1\n",
      "C10H15N3O2\n",
      "C10H15N5\n",
      "C10H15N5O1\n",
      "C10H15N5O4\n",
      "C10H15N5O5\n"
     ]
    },
    {
     "name": "stderr",
     "output_type": "stream",
     "text": [
      "Molecules:   2%|█▎                                                     | 77/3114 [00:06<03:47, 13.35it/s]"
     ]
    },
    {
     "name": "stdout",
     "output_type": "stream",
     "text": [
      "C10H16\n",
      "C10H16N2\n",
      "C10H16N2O1\n",
      "C10H16N2O2\n",
      "C10H16N2O3\n"
     ]
    },
    {
     "name": "stderr",
     "output_type": "stream",
     "text": [
      "Molecules:   3%|█▍                                                     | 82/3114 [00:06<03:08, 16.05it/s]"
     ]
    },
    {
     "name": "stdout",
     "output_type": "stream",
     "text": [
      "C10H16N2O4\n",
      "C10H16N2O5\n",
      "C10H16N2O7\n",
      "C10H16N4\n",
      "C10H16N4O1\n",
      "C10H16N4O2\n"
     ]
    },
    {
     "name": "stderr",
     "output_type": "stream",
     "text": [
      "Molecules:   3%|█▌                                                     | 87/3114 [00:06<03:36, 13.95it/s]"
     ]
    },
    {
     "name": "stdout",
     "output_type": "stream",
     "text": [
      "C10H16N4O4\n",
      "C10H16N6\n",
      "C10H16O1\n"
     ]
    },
    {
     "name": "stderr",
     "output_type": "stream",
     "text": [
      "Molecules:   3%|█▌                                                     | 91/3114 [00:07<03:34, 14.12it/s]"
     ]
    },
    {
     "name": "stdout",
     "output_type": "stream",
     "text": [
      "C10H16O2\n",
      "C10H16O3\n",
      "C10H16O4\n",
      "C10H16O5\n",
      "C10H17N1\n"
     ]
    },
    {
     "name": "stderr",
     "output_type": "stream",
     "text": [
      "Molecules:   3%|█▋                                                     | 95/3114 [00:07<03:30, 14.37it/s]"
     ]
    },
    {
     "name": "stdout",
     "output_type": "stream",
     "text": [
      "C10H17N1O1\n",
      "C10H17N1O2\n",
      "C10H17N1O3\n",
      "C10H17N1O4\n",
      "C10H17N1O5\n"
     ]
    },
    {
     "name": "stderr",
     "output_type": "stream",
     "text": [
      "Molecules:   3%|█▊                                                    | 103/3114 [00:07<03:27, 14.49it/s]"
     ]
    },
    {
     "name": "stdout",
     "output_type": "stream",
     "text": [
      "C10H17N3\n",
      "C10H17N3O1\n",
      "C10H17N3O2\n",
      "C10H17N3O3\n",
      "C10H17N3O4\n",
      "C10H17N3O6\n"
     ]
    },
    {
     "name": "stderr",
     "output_type": "stream",
     "text": [
      "\r",
      "Molecules:   3%|█▊                                                    | 105/3114 [00:08<03:54, 12.81it/s]"
     ]
    },
    {
     "name": "stdout",
     "output_type": "stream",
     "text": [
      "C10H17N5\n",
      "C10H17N5O1\n",
      "C10H18\n"
     ]
    },
    {
     "name": "stderr",
     "output_type": "stream",
     "text": [
      "\r",
      "Molecules:   3%|█▊                                                    | 107/3114 [00:08<04:19, 11.61it/s]"
     ]
    },
    {
     "name": "stdout",
     "output_type": "stream",
     "text": [
      "C10H18N2\n",
      "C10H18N2O1\n",
      "C10H18N2O2\n"
     ]
    },
    {
     "name": "stderr",
     "output_type": "stream",
     "text": [
      "Molecules:   4%|█▉                                                    | 113/3114 [00:08<04:29, 11.15it/s]"
     ]
    },
    {
     "name": "stdout",
     "output_type": "stream",
     "text": [
      "C10H18N2O3\n",
      "C10H18N2O5\n",
      "C10H18N4\n",
      "C10H18N4O1\n",
      "C10H18N4O5\n",
      "C10H18N6O3\n"
     ]
    },
    {
     "name": "stderr",
     "output_type": "stream",
     "text": [
      "\r",
      "Molecules:   4%|██                                                    | 117/3114 [00:09<03:37, 13.79it/s]"
     ]
    },
    {
     "name": "stdout",
     "output_type": "stream",
     "text": [
      "C10H18O1\n",
      "C10H18O2\n",
      "C10H18O3\n"
     ]
    },
    {
     "name": "stderr",
     "output_type": "stream",
     "text": [
      "\r",
      "Molecules:   4%|██                                                    | 119/3114 [00:09<04:11, 11.91it/s]"
     ]
    },
    {
     "name": "stdout",
     "output_type": "stream",
     "text": [
      "C10H18O4\n",
      "C10H19N1\n"
     ]
    },
    {
     "name": "stderr",
     "output_type": "stream",
     "text": [
      "Molecules:   4%|██▏                                                   | 124/3114 [00:09<03:55, 12.70it/s]"
     ]
    },
    {
     "name": "stdout",
     "output_type": "stream",
     "text": [
      "C10H19N1O1\n",
      "C10H19N1O2\n",
      "C10H19N1O3\n",
      "C10H19N1O4\n",
      "C10H19N3\n"
     ]
    },
    {
     "name": "stderr",
     "output_type": "stream",
     "text": [
      "\r",
      "Molecules:   4%|██▏                                                   | 126/3114 [00:09<03:45, 13.26it/s]"
     ]
    },
    {
     "name": "stdout",
     "output_type": "stream",
     "text": [
      "C10H19N3O1\n",
      "C10H19N3O2\n",
      "C10H19N3O3\n",
      "C10H19N3O4\n"
     ]
    },
    {
     "name": "stderr",
     "output_type": "stream",
     "text": [
      "\r",
      "Molecules:   4%|██▎                                                   | 130/3114 [00:10<03:20, 14.90it/s]"
     ]
    },
    {
     "name": "stdout",
     "output_type": "stream",
     "text": [
      "C10H19N3O5\n",
      "C10H19N5\n",
      "C10H19N5O5\n"
     ]
    },
    {
     "name": "stderr",
     "output_type": "stream",
     "text": [
      "Molecules:   4%|██▎                                                   | 136/3114 [00:10<03:19, 14.93it/s]"
     ]
    },
    {
     "name": "stdout",
     "output_type": "stream",
     "text": [
      "C10H20\n",
      "C10H20N2\n",
      "C10H20N2O1\n",
      "C10H20N2O2\n"
     ]
    },
    {
     "name": "stderr",
     "output_type": "stream",
     "text": [
      "Molecules:   4%|██▍                                                   | 140/3114 [00:11<04:23, 11.29it/s]"
     ]
    },
    {
     "name": "stdout",
     "output_type": "stream",
     "text": [
      "C10H20N2O3\n",
      "C10H20N2O4\n",
      "C10H20N4\n",
      "C10H20N4O4\n"
     ]
    },
    {
     "name": "stderr",
     "output_type": "stream",
     "text": [
      "Molecules:   5%|██▍                                                   | 144/3114 [00:11<04:12, 11.75it/s]"
     ]
    },
    {
     "name": "stdout",
     "output_type": "stream",
     "text": [
      "C10H20N6O4\n",
      "C10H20O1\n",
      "C10H20O2\n",
      "C10H20O3\n"
     ]
    },
    {
     "name": "stderr",
     "output_type": "stream",
     "text": [
      "\r",
      "Molecules:   5%|██▌                                                   | 146/3114 [00:11<03:57, 12.49it/s]"
     ]
    },
    {
     "name": "stdout",
     "output_type": "stream",
     "text": [
      "C10H20O4\n",
      "C10H20O5\n",
      "C10H20O6\n"
     ]
    },
    {
     "name": "stderr",
     "output_type": "stream",
     "text": [
      "\r",
      "Molecules:   5%|██▌                                                   | 148/3114 [00:11<04:31, 10.92it/s]"
     ]
    },
    {
     "name": "stdout",
     "output_type": "stream",
     "text": [
      "C10H21N1\n",
      "C10H21N1O1\n",
      "C10H21N1O2\n"
     ]
    },
    {
     "name": "stderr",
     "output_type": "stream",
     "text": [
      "Molecules:   5%|██▌                                                   | 151/3114 [00:12<06:06,  8.09it/s]"
     ]
    },
    {
     "name": "stdout",
     "output_type": "stream",
     "text": [
      "C10H21N1O4\n",
      "C10H21N3O1\n",
      "C10H21N3O3\n"
     ]
    },
    {
     "name": "stderr",
     "output_type": "stream",
     "text": [
      "Molecules:   5%|██▋                                                   | 156/3114 [00:12<05:06,  9.66it/s]"
     ]
    },
    {
     "name": "stdout",
     "output_type": "stream",
     "text": [
      "C10H21N3O4\n",
      "C10H21N5O1\n",
      "C10H21N5O4\n",
      "C10H22N2\n"
     ]
    },
    {
     "name": "stderr",
     "output_type": "stream",
     "text": [
      "Molecules:   5%|██▊                                                   | 161/3114 [00:13<04:40, 10.51it/s]"
     ]
    },
    {
     "name": "stdout",
     "output_type": "stream",
     "text": [
      "C10H22N2O1\n",
      "C10H22N2O3\n",
      "C10H22N2O4\n",
      "C10H22N4\n",
      "C10H22N4O2\n",
      "C10H22O1\n"
     ]
    },
    {
     "name": "stderr",
     "output_type": "stream",
     "text": [
      "\r",
      "Molecules:   5%|██▊                                                   | 164/3114 [00:13<03:52, 12.69it/s]"
     ]
    },
    {
     "name": "stdout",
     "output_type": "stream",
     "text": [
      "C10H22O2\n",
      "C10H22O3\n"
     ]
    },
    {
     "name": "stderr",
     "output_type": "stream",
     "text": [
      "\r",
      "Molecules:   5%|██▉                                                   | 166/3114 [00:13<04:16, 11.51it/s]"
     ]
    },
    {
     "name": "stdout",
     "output_type": "stream",
     "text": [
      "C10H22O6\n",
      "C10H23N1\n"
     ]
    },
    {
     "name": "stderr",
     "output_type": "stream",
     "text": [
      "Molecules:   5%|██▉                                                   | 170/3114 [00:13<04:08, 11.87it/s]"
     ]
    },
    {
     "name": "stdout",
     "output_type": "stream",
     "text": [
      "C10H23N1O1\n",
      "C10H23N1O3\n",
      "C10H23N3O1\n",
      "C10H23N3O2\n"
     ]
    },
    {
     "name": "stderr",
     "output_type": "stream",
     "text": [
      "Molecules:   6%|███                                                   | 174/3114 [00:14<04:24, 11.11it/s]"
     ]
    },
    {
     "name": "stdout",
     "output_type": "stream",
     "text": [
      "C10H24N2\n",
      "C10H24N2O1\n",
      "C10H24N2O2\n"
     ]
    },
    {
     "name": "stderr",
     "output_type": "stream",
     "text": [
      "Molecules:   6%|███                                                   | 178/3114 [00:14<03:55, 12.49it/s]"
     ]
    },
    {
     "name": "stdout",
     "output_type": "stream",
     "text": [
      "C10H24N2O4\n",
      "C10H24N4\n",
      "C10H24N4O1\n",
      "C10H24O2\n",
      "C10H25N1\n"
     ]
    },
    {
     "name": "stderr",
     "output_type": "stream",
     "text": [
      "Molecules:   6%|███▏                                                  | 182/3114 [00:14<03:44, 13.06it/s]"
     ]
    },
    {
     "name": "stdout",
     "output_type": "stream",
     "text": [
      "C10H25N1O1\n",
      "C10H25N3\n",
      "C10H25N3O1\n"
     ]
    },
    {
     "name": "stderr",
     "output_type": "stream",
     "text": [
      "Molecules:   6%|███▏                                                  | 186/3114 [00:15<03:32, 13.75it/s]"
     ]
    },
    {
     "name": "stdout",
     "output_type": "stream",
     "text": [
      "C10H25N3O3\n",
      "C10H26N2\n",
      "C10H26N2O6\n",
      "C10H26N4\n",
      "C10H26N4O2\n"
     ]
    },
    {
     "name": "stderr",
     "output_type": "stream",
     "text": [
      "Molecules:   6%|███▎                                                  | 190/3114 [00:15<04:01, 12.09it/s]"
     ]
    },
    {
     "name": "stdout",
     "output_type": "stream",
     "text": [
      "C10H26N6\n",
      "C10H3N1O1\n",
      "C10H4N2\n",
      "C10H5N1\n",
      "C10H5N1O1\n"
     ]
    },
    {
     "name": "stderr",
     "output_type": "stream",
     "text": [
      "Molecules:   6%|███▍                                                  | 198/3114 [00:15<03:16, 14.87it/s]"
     ]
    },
    {
     "name": "stdout",
     "output_type": "stream",
     "text": [
      "C10H6\n",
      "C10H6N2\n",
      "C10H6N4\n",
      "C10H6O1\n",
      "C10H6O2\n",
      "C10H6O3\n",
      "C10H7N1\n",
      "C10H7N1O1\n"
     ]
    },
    {
     "name": "stderr",
     "output_type": "stream",
     "text": [
      "Molecules:   7%|███▌                                                  | 204/3114 [00:16<03:36, 13.41it/s]"
     ]
    },
    {
     "name": "stdout",
     "output_type": "stream",
     "text": [
      "C10H7N1O2\n",
      "C10H7N1O3\n",
      "C10H7N3\n",
      "C10H7N3O1\n"
     ]
    },
    {
     "name": "stderr",
     "output_type": "stream",
     "text": [
      "Molecules:   7%|███▌                                                  | 208/3114 [00:16<03:47, 12.75it/s]"
     ]
    },
    {
     "name": "stdout",
     "output_type": "stream",
     "text": [
      "C10H8\n",
      "C10H8N2\n",
      "C10H8N2O1\n",
      "C10H8N2O2\n"
     ]
    },
    {
     "name": "stderr",
     "output_type": "stream",
     "text": [
      "Molecules:   7%|███▋                                                  | 214/3114 [00:17<04:02, 11.95it/s]"
     ]
    },
    {
     "name": "stdout",
     "output_type": "stream",
     "text": [
      "C10H8N4\n",
      "C10H8O1\n",
      "C10H8O2\n",
      "C10H8O3\n",
      "C10H9N1\n",
      "C10H9N1O1\n"
     ]
    },
    {
     "name": "stderr",
     "output_type": "stream",
     "text": [
      "Molecules:   7%|███▊                                                  | 218/3114 [00:17<04:32, 10.61it/s]"
     ]
    },
    {
     "name": "stdout",
     "output_type": "stream",
     "text": [
      "C10H9N1O2\n",
      "C10H9N1O3\n",
      "C10H9N3\n",
      "C10H9N3O1\n",
      "C10H9N5\n",
      "C10H9N5O1\n",
      "C11H10\n"
     ]
    },
    {
     "name": "stderr",
     "output_type": "stream",
     "text": [
      "Molecules:   7%|███▉                                                  | 225/3114 [00:18<04:15, 11.30it/s]"
     ]
    },
    {
     "name": "stdout",
     "output_type": "stream",
     "text": [
      "C11H10N2\n",
      "C11H10N2O1\n",
      "C11H10N2O2\n",
      "C11H10N4\n",
      "C11H10O1\n",
      "C11H10O2\n"
     ]
    },
    {
     "name": "stderr",
     "output_type": "stream",
     "text": [
      "Molecules:   7%|████                                                  | 232/3114 [00:18<02:52, 16.71it/s]"
     ]
    },
    {
     "name": "stdout",
     "output_type": "stream",
     "text": [
      "C11H10O3\n",
      "C11H10O4\n",
      "C11H10O7\n",
      "C11H11N1\n",
      "C11H11N1O1\n",
      "C11H11N1O2\n"
     ]
    },
    {
     "name": "stderr",
     "output_type": "stream",
     "text": [
      "Molecules:   8%|████                                                  | 236/3114 [00:18<03:05, 15.48it/s]"
     ]
    },
    {
     "name": "stdout",
     "output_type": "stream",
     "text": [
      "C11H11N1O3\n",
      "C11H11N3\n",
      "C11H11N3O1\n"
     ]
    },
    {
     "name": "stderr",
     "output_type": "stream",
     "text": [
      "Molecules:   8%|████▏                                                 | 240/3114 [00:19<04:00, 11.96it/s]"
     ]
    },
    {
     "name": "stdout",
     "output_type": "stream",
     "text": [
      "C11H11N3O2\n",
      "C11H12\n",
      "C11H12N2\n",
      "C11H12N2O1\n"
     ]
    },
    {
     "name": "stderr",
     "output_type": "stream",
     "text": [
      "Molecules:   8%|████▎                                                 | 246/3114 [00:19<03:29, 13.69it/s]"
     ]
    },
    {
     "name": "stdout",
     "output_type": "stream",
     "text": [
      "C11H12N2O2\n",
      "C11H12N4\n",
      "C11H12N4O2\n",
      "C11H12O1\n",
      "C11H12O2\n",
      "C11H12O3\n",
      "C11H12O4\n"
     ]
    },
    {
     "name": "stderr",
     "output_type": "stream",
     "text": [
      "\r",
      "Molecules:   8%|████▎                                                 | 248/3114 [00:19<03:17, 14.52it/s]"
     ]
    },
    {
     "name": "stdout",
     "output_type": "stream",
     "text": [
      "C11H13N1\n",
      "C11H13N1O1\n",
      "C11H13N1O2\n",
      "C11H13N1O3\n",
      "C11H13N1O4\n"
     ]
    },
    {
     "name": "stderr",
     "output_type": "stream",
     "text": [
      "Molecules:   8%|████▍                                                 | 255/3114 [00:20<03:04, 15.54it/s]"
     ]
    },
    {
     "name": "stdout",
     "output_type": "stream",
     "text": [
      "C11H13N3\n",
      "C11H13N3O1\n",
      "C11H13N3O2\n",
      "C11H13N5O1\n"
     ]
    },
    {
     "name": "stderr",
     "output_type": "stream",
     "text": [
      "\r",
      "Molecules:   8%|████▍                                                 | 257/3114 [00:20<02:57, 16.06it/s]"
     ]
    },
    {
     "name": "stdout",
     "output_type": "stream",
     "text": [
      "C11H14\n",
      "C11H14N2\n"
     ]
    },
    {
     "name": "stderr",
     "output_type": "stream",
     "text": [
      "Molecules:   8%|████▌                                                 | 264/3114 [00:20<03:32, 13.39it/s]"
     ]
    },
    {
     "name": "stdout",
     "output_type": "stream",
     "text": [
      "C11H14N2O1\n",
      "C11H14N2O2\n",
      "C11H14N2O3\n",
      "C11H14N2O4\n",
      "C11H14N4\n",
      "C11H14N4O1\n"
     ]
    },
    {
     "name": "stderr",
     "output_type": "stream",
     "text": [
      "Molecules:   9%|████▋                                                 | 269/3114 [00:21<03:03, 15.54it/s]"
     ]
    },
    {
     "name": "stdout",
     "output_type": "stream",
     "text": [
      "C11H14N4O2\n",
      "C11H14N4O3\n",
      "C11H14O1\n",
      "C11H14O2\n",
      "C11H14O3\n",
      "C11H14O4\n"
     ]
    },
    {
     "name": "stderr",
     "output_type": "stream",
     "text": [
      "Molecules:   9%|████▊                                                 | 276/3114 [00:21<02:56, 16.08it/s]"
     ]
    },
    {
     "name": "stdout",
     "output_type": "stream",
     "text": [
      "C11H15N1\n",
      "C11H15N1O1\n",
      "C11H15N1O2\n",
      "C11H15N1O3\n",
      "C11H15N1O4\n",
      "C11H15N1O5\n"
     ]
    },
    {
     "name": "stderr",
     "output_type": "stream",
     "text": [
      "Molecules:   9%|████▊                                                 | 281/3114 [00:21<03:02, 15.52it/s]"
     ]
    },
    {
     "name": "stdout",
     "output_type": "stream",
     "text": [
      "C11H15N3\n",
      "C11H15N3O1\n",
      "C11H15N3O2\n",
      "C11H15N3O3\n",
      "C11H15N5O1\n",
      "C11H16\n"
     ]
    },
    {
     "name": "stderr",
     "output_type": "stream",
     "text": [
      "Molecules:   9%|████▉                                                 | 286/3114 [00:22<02:46, 17.02it/s]"
     ]
    },
    {
     "name": "stdout",
     "output_type": "stream",
     "text": [
      "C11H16N2\n",
      "C11H16N2O1\n",
      "C11H16N2O2\n",
      "C11H16N2O3\n",
      "C11H16N4\n",
      "C11H16N4O2\n"
     ]
    },
    {
     "name": "stderr",
     "output_type": "stream",
     "text": [
      "Molecules:   9%|█████                                                 | 291/3114 [00:22<03:05, 15.24it/s]"
     ]
    },
    {
     "name": "stdout",
     "output_type": "stream",
     "text": [
      "C11H16N4O3\n",
      "C11H16N4O5\n",
      "C11H16O1\n",
      "C11H16O2\n",
      "C11H16O3\n"
     ]
    },
    {
     "name": "stderr",
     "output_type": "stream",
     "text": [
      "Molecules:  10%|█████▏                                                | 298/3114 [00:22<03:12, 14.61it/s]"
     ]
    },
    {
     "name": "stdout",
     "output_type": "stream",
     "text": [
      "C11H16O4\n",
      "C11H17N1\n",
      "C11H17N1O1\n",
      "C11H17N1O2\n",
      "C11H17N1O3\n"
     ]
    },
    {
     "name": "stderr",
     "output_type": "stream",
     "text": [
      "Molecules:  10%|█████▎                                                | 303/3114 [00:23<03:09, 14.80it/s]"
     ]
    },
    {
     "name": "stdout",
     "output_type": "stream",
     "text": [
      "C11H17N1O4\n",
      "C11H17N3\n",
      "C11H17N3O1\n",
      "C11H17N3O2\n",
      "C11H17N3O6\n",
      "C11H17N5O4\n"
     ]
    },
    {
     "name": "stderr",
     "output_type": "stream",
     "text": [
      "Molecules:  10%|█████▎                                                | 309/3114 [00:23<02:40, 17.47it/s]"
     ]
    },
    {
     "name": "stdout",
     "output_type": "stream",
     "text": [
      "C11H17N9O2\n",
      "C11H18\n",
      "C11H18N2\n",
      "C11H18N2O1\n",
      "C11H18N2O2\n",
      "C11H18N2O3\n",
      "C11H18N4\n"
     ]
    },
    {
     "name": "stderr",
     "output_type": "stream",
     "text": [
      "Molecules:  10%|█████▍                                                | 315/3114 [00:24<03:12, 14.58it/s]"
     ]
    },
    {
     "name": "stdout",
     "output_type": "stream",
     "text": [
      "C11H18N4O1\n",
      "C11H18N4O3\n",
      "C11H18N4O4\n",
      "C11H18O1\n",
      "C11H18O2\n"
     ]
    },
    {
     "name": "stderr",
     "output_type": "stream",
     "text": [
      "Molecules:  10%|█████▌                                                | 320/3114 [00:24<03:03, 15.25it/s]"
     ]
    },
    {
     "name": "stdout",
     "output_type": "stream",
     "text": [
      "C11H18O3\n",
      "C11H18O4\n",
      "C11H19N1\n",
      "C11H19N1O1\n",
      "C11H19N1O2\n"
     ]
    },
    {
     "name": "stderr",
     "output_type": "stream",
     "text": [
      "Molecules:  10%|█████▋                                                | 326/3114 [00:24<02:38, 17.55it/s]"
     ]
    },
    {
     "name": "stdout",
     "output_type": "stream",
     "text": [
      "C11H19N1O3\n",
      "C11H19N3\n",
      "C11H19N3O1\n",
      "C11H20\n",
      "C11H20N2\n",
      "C11H20N2O1\n",
      "C11H20N2O2\n",
      "C11H20N2O3\n",
      "C11H20N2O5\n"
     ]
    },
    {
     "name": "stderr",
     "output_type": "stream",
     "text": [
      "Molecules:  11%|█████▊                                                | 335/3114 [00:25<02:33, 18.05it/s]"
     ]
    },
    {
     "name": "stdout",
     "output_type": "stream",
     "text": [
      "C11H20N4\n",
      "C11H20N6O4\n",
      "C11H20O1\n",
      "C11H20O2\n",
      "C11H20O3\n"
     ]
    },
    {
     "name": "stderr",
     "output_type": "stream",
     "text": [
      "\r",
      "Molecules:  11%|█████▊                                                | 337/3114 [00:25<02:51, 16.19it/s]"
     ]
    },
    {
     "name": "stdout",
     "output_type": "stream",
     "text": [
      "C11H20O4\n",
      "C11H21N1\n",
      "C11H21N1O1\n"
     ]
    },
    {
     "name": "stderr",
     "output_type": "stream",
     "text": [
      "Molecules:  11%|█████▉                                                | 343/3114 [00:25<03:10, 14.53it/s]"
     ]
    },
    {
     "name": "stdout",
     "output_type": "stream",
     "text": [
      "C11H21N1O2\n",
      "C11H21N3\n",
      "C11H21N3O1\n",
      "C11H21N3O3\n",
      "C11H21N3O4\n"
     ]
    },
    {
     "name": "stderr",
     "output_type": "stream",
     "text": [
      "Molecules:  11%|██████                                                | 349/3114 [00:26<02:54, 15.83it/s]"
     ]
    },
    {
     "name": "stdout",
     "output_type": "stream",
     "text": [
      "C11H21N3O5\n",
      "C11H21N5O3\n",
      "C11H21N5O5\n",
      "C11H22\n",
      "C11H22N2\n",
      "C11H22N2O1\n"
     ]
    },
    {
     "name": "stderr",
     "output_type": "stream",
     "text": [
      "Molecules:  11%|██████                                                | 353/3114 [00:26<04:07, 11.17it/s]"
     ]
    },
    {
     "name": "stdout",
     "output_type": "stream",
     "text": [
      "C11H22N2O3\n",
      "C11H22N4O1\n",
      "C11H22N4O4\n",
      "C11H22N6O4\n",
      "C11H22O1\n",
      "C11H22O2\n"
     ]
    },
    {
     "name": "stderr",
     "output_type": "stream",
     "text": [
      "Molecules:  11%|██████▏                                               | 358/3114 [00:27<03:55, 11.72it/s]"
     ]
    },
    {
     "name": "stdout",
     "output_type": "stream",
     "text": [
      "C11H22O3\n",
      "C11H22O4\n",
      "C11H23N1\n",
      "C11H23N1O1\n"
     ]
    },
    {
     "name": "stderr",
     "output_type": "stream",
     "text": [
      "\r",
      "Molecules:  12%|██████▏                                               | 360/3114 [00:27<03:48, 12.03it/s]"
     ]
    },
    {
     "name": "stdout",
     "output_type": "stream",
     "text": [
      "C11H23N3O3\n",
      "C11H23N5O3\n"
     ]
    },
    {
     "name": "stderr",
     "output_type": "stream",
     "text": [
      "Molecules:  12%|██████▎                                               | 367/3114 [00:27<03:04, 14.88it/s]"
     ]
    },
    {
     "name": "stdout",
     "output_type": "stream",
     "text": [
      "C11H24\n",
      "C11H24N2\n",
      "C11H24N2O3\n",
      "C11H24N4\n",
      "C11H24N4O1\n",
      "C11H24O1\n"
     ]
    },
    {
     "name": "stderr",
     "output_type": "stream",
     "text": [
      "Molecules:  12%|██████▍                                               | 373/3114 [00:27<02:38, 17.30it/s]"
     ]
    },
    {
     "name": "stdout",
     "output_type": "stream",
     "text": [
      "C11H24O3\n",
      "C11H24O4\n",
      "C11H25N1\n",
      "C11H25N1O2\n",
      "C11H25N3O1\n",
      "C11H26N4O1\n",
      "C11H27N1\n"
     ]
    },
    {
     "name": "stderr",
     "output_type": "stream",
     "text": [
      "\r",
      "Molecules:  12%|██████▌                                               | 375/3114 [00:28<03:27, 13.18it/s]"
     ]
    },
    {
     "name": "stdout",
     "output_type": "stream",
     "text": [
      "C11H3N1\n",
      "C11H4O1\n"
     ]
    },
    {
     "name": "stderr",
     "output_type": "stream",
     "text": [
      "Molecules:  12%|██████▌                                               | 379/3114 [00:28<03:25, 13.29it/s]"
     ]
    },
    {
     "name": "stdout",
     "output_type": "stream",
     "text": [
      "C11H5N1\n",
      "C11H6\n",
      "C11H6N2\n",
      "C11H6O1\n",
      "C11H6O2\n"
     ]
    },
    {
     "name": "stderr",
     "output_type": "stream",
     "text": [
      "Molecules:  12%|██████▋                                               | 384/3114 [00:28<03:25, 13.30it/s]"
     ]
    },
    {
     "name": "stdout",
     "output_type": "stream",
     "text": [
      "C11H7N1\n",
      "C11H7N1O1\n",
      "C11H8\n",
      "C11H8N2\n"
     ]
    },
    {
     "name": "stderr",
     "output_type": "stream",
     "text": [
      "Molecules:  12%|██████▋                                               | 388/3114 [00:29<03:23, 13.40it/s]"
     ]
    },
    {
     "name": "stdout",
     "output_type": "stream",
     "text": [
      "C11H8N2O2\n",
      "C11H8N4\n",
      "C11H8O1\n",
      "C11H8O2\n",
      "C11H8O3\n"
     ]
    },
    {
     "name": "stderr",
     "output_type": "stream",
     "text": [
      "Molecules:  13%|██████▊                                               | 393/3114 [00:29<03:07, 14.53it/s]"
     ]
    },
    {
     "name": "stdout",
     "output_type": "stream",
     "text": [
      "C11H9N1\n",
      "C11H9N1O1\n",
      "C11H9N1O2\n",
      "C11H9N1O3\n"
     ]
    },
    {
     "name": "stderr",
     "output_type": "stream",
     "text": [
      "Molecules:  13%|██████▉                                               | 400/3114 [00:30<03:05, 14.62it/s]"
     ]
    },
    {
     "name": "stdout",
     "output_type": "stream",
     "text": [
      "C11H9N3\n",
      "C11H9N3O1\n",
      "C12H10\n",
      "C12H10N2\n",
      "C12H10N2O1\n",
      "C12H10O1\n"
     ]
    },
    {
     "name": "stderr",
     "output_type": "stream",
     "text": [
      "Molecules:  13%|███████                                               | 404/3114 [00:30<03:33, 12.70it/s]"
     ]
    },
    {
     "name": "stdout",
     "output_type": "stream",
     "text": [
      "C12H10O2\n",
      "C12H10O3\n",
      "C12H11N1\n",
      "C12H11N1O1\n",
      "C12H11N1O2\n",
      "C12H11N1O3\n"
     ]
    },
    {
     "name": "stderr",
     "output_type": "stream",
     "text": [
      "Molecules:  13%|███████▏                                              | 411/3114 [00:30<03:28, 12.95it/s]"
     ]
    },
    {
     "name": "stdout",
     "output_type": "stream",
     "text": [
      "C12H11N3\n",
      "C12H12\n",
      "C12H12N2\n",
      "C12H12N2O1\n",
      "C12H12N2O2\n"
     ]
    },
    {
     "name": "stderr",
     "output_type": "stream",
     "text": [
      "Molecules:  13%|███████▏                                              | 417/3114 [00:31<03:15, 13.82it/s]"
     ]
    },
    {
     "name": "stdout",
     "output_type": "stream",
     "text": [
      "C12H12N4\n",
      "C12H12O1\n",
      "C12H12O2\n",
      "C12H13N1\n",
      "C12H13N1O1\n",
      "C12H13N1O2\n"
     ]
    },
    {
     "name": "stderr",
     "output_type": "stream",
     "text": [
      "Molecules:  14%|███████▎                                              | 422/3114 [00:31<03:40, 12.21it/s]"
     ]
    },
    {
     "name": "stdout",
     "output_type": "stream",
     "text": [
      "C12H13N1O3\n",
      "C12H13N3\n",
      "C12H13N3O1\n",
      "C12H13N3O2\n",
      "C12H14\n"
     ]
    },
    {
     "name": "stderr",
     "output_type": "stream",
     "text": [
      "Molecules:  14%|███████▍                                              | 427/3114 [00:32<03:35, 12.45it/s]"
     ]
    },
    {
     "name": "stdout",
     "output_type": "stream",
     "text": [
      "C12H14N12O1\n",
      "C12H14N2\n",
      "C12H14N2O1\n",
      "C12H14N2O2\n",
      "C12H14N2O8\n",
      "C12H14N4\n"
     ]
    },
    {
     "name": "stderr",
     "output_type": "stream",
     "text": [
      "Molecules:  14%|███████▌                                              | 433/3114 [00:32<02:42, 16.50it/s]"
     ]
    },
    {
     "name": "stdout",
     "output_type": "stream",
     "text": [
      "C12H14N4O5\n",
      "C12H14N8O1\n",
      "C12H14O1\n",
      "C12H14O2\n",
      "C12H14O3\n",
      "C12H15N1\n"
     ]
    },
    {
     "name": "stderr",
     "output_type": "stream",
     "text": [
      "Molecules:  14%|███████▌                                              | 439/3114 [00:32<02:32, 17.53it/s]"
     ]
    },
    {
     "name": "stdout",
     "output_type": "stream",
     "text": [
      "C12H15N1O1\n",
      "C12H15N1O2\n",
      "C12H15N1O3\n",
      "C12H15N3\n",
      "C12H15N3O1\n",
      "C12H16\n"
     ]
    },
    {
     "name": "stderr",
     "output_type": "stream",
     "text": [
      "Molecules:  14%|███████▋                                              | 443/3114 [00:33<03:02, 14.62it/s]"
     ]
    },
    {
     "name": "stdout",
     "output_type": "stream",
     "text": [
      "C12H16N2\n",
      "C12H16N2O1\n",
      "C12H16N2O2\n"
     ]
    },
    {
     "name": "stderr",
     "output_type": "stream",
     "text": [
      "Molecules:  14%|███████▊                                              | 447/3114 [00:33<03:35, 12.37it/s]"
     ]
    },
    {
     "name": "stdout",
     "output_type": "stream",
     "text": [
      "C12H16N2O3\n",
      "C12H16N2O4\n",
      "C12H16N2O5\n",
      "C12H16N4\n",
      "C12H16N4O1\n"
     ]
    },
    {
     "name": "stderr",
     "output_type": "stream",
     "text": [
      "\r",
      "Molecules:  14%|███████▊                                              | 450/3114 [00:33<02:49, 15.69it/s]"
     ]
    },
    {
     "name": "stdout",
     "output_type": "stream",
     "text": [
      "C12H16N6O3\n",
      "C12H16O1\n",
      "C12H16O2\n"
     ]
    },
    {
     "name": "stderr",
     "output_type": "stream",
     "text": [
      "Molecules:  15%|███████▊                                              | 454/3114 [00:34<03:38, 12.17it/s]"
     ]
    },
    {
     "name": "stdout",
     "output_type": "stream",
     "text": [
      "C12H16O3\n",
      "C12H16O4\n",
      "C12H17N1\n",
      "C12H17N1O1\n"
     ]
    },
    {
     "name": "stderr",
     "output_type": "stream",
     "text": [
      "Molecules:  15%|███████▉                                              | 459/3114 [00:34<03:48, 11.60it/s]"
     ]
    },
    {
     "name": "stdout",
     "output_type": "stream",
     "text": [
      "C12H17N1O2\n",
      "C12H17N1O3\n",
      "C12H17N3\n",
      "C12H17N3O1\n"
     ]
    },
    {
     "name": "stderr",
     "output_type": "stream",
     "text": [
      "Molecules:  15%|████████                                              | 464/3114 [00:34<03:04, 14.35it/s]"
     ]
    },
    {
     "name": "stdout",
     "output_type": "stream",
     "text": [
      "C12H17N5\n",
      "C12H17N5O4\n",
      "C12H18\n",
      "C12H18N2\n",
      "C12H18N2O1\n",
      "C12H18N2O2\n"
     ]
    },
    {
     "name": "stderr",
     "output_type": "stream",
     "text": [
      "Molecules:  15%|████████                                              | 468/3114 [00:35<03:09, 13.95it/s]"
     ]
    },
    {
     "name": "stdout",
     "output_type": "stream",
     "text": [
      "C12H18N2O4\n",
      "C12H18N4\n",
      "C12H18N4O3\n",
      "C12H18N8O2\n",
      "C12H18O1\n"
     ]
    },
    {
     "name": "stderr",
     "output_type": "stream",
     "text": [
      "\r",
      "Molecules:  15%|████████▏                                             | 471/3114 [00:35<02:55, 15.04it/s]"
     ]
    },
    {
     "name": "stdout",
     "output_type": "stream",
     "text": [
      "C12H18O2\n",
      "C12H18O3\n",
      "C12H19N1O1\n"
     ]
    },
    {
     "name": "stderr",
     "output_type": "stream",
     "text": [
      "Molecules:  15%|████████▎                                             | 476/3114 [00:35<03:03, 14.34it/s]"
     ]
    },
    {
     "name": "stdout",
     "output_type": "stream",
     "text": [
      "C12H19N1O2\n",
      "C12H19N1O3\n",
      "C12H19N3\n"
     ]
    },
    {
     "name": "stderr",
     "output_type": "stream",
     "text": [
      "Molecules:  15%|████████▎                                             | 482/3114 [00:35<02:33, 17.17it/s]"
     ]
    },
    {
     "name": "stdout",
     "output_type": "stream",
     "text": [
      "C12H19N3O1\n",
      "C12H19N3O7\n",
      "C12H20\n",
      "C12H20N2\n",
      "C12H20N2O1\n",
      "C12H20N2O2\n",
      "C12H20N4\n",
      "C12H20N4O3\n"
     ]
    },
    {
     "name": "stderr",
     "output_type": "stream",
     "text": [
      "Molecules:  16%|████████▍                                             | 488/3114 [00:36<02:53, 15.18it/s]"
     ]
    },
    {
     "name": "stdout",
     "output_type": "stream",
     "text": [
      "C12H20N4O6\n",
      "C12H20N6O1\n",
      "C12H20O1\n",
      "C12H21N1\n",
      "C12H21N1O2\n",
      "C12H21N3\n"
     ]
    },
    {
     "name": "stderr",
     "output_type": "stream",
     "text": [
      "Molecules:  16%|████████▌                                             | 493/3114 [00:36<03:15, 13.38it/s]"
     ]
    },
    {
     "name": "stdout",
     "output_type": "stream",
     "text": [
      "C12H21N3O1\n",
      "C12H21N3O2\n",
      "C12H21N5O3\n"
     ]
    },
    {
     "name": "stderr",
     "output_type": "stream",
     "text": [
      "\n",
      "\n",
      "KeyboardInterrupt\n",
      "\n"
     ]
    }
   ],
   "source": [
    "with h5py.File('../data/raw/ani1x-release.h5') as h5:\n",
    "    for mol_id, mol in tqdm(h5.items(), desc=\"Molecules\"):\n",
    "        print(mol_id)"
   ]
  },
  {
   "cell_type": "code",
   "execution_count": 54,
   "id": "07746425",
   "metadata": {},
   "outputs": [
    {
     "name": "stdout",
     "output_type": "stream",
     "text": [
      "C10H10\n",
      "<HDF5 dataset \"coordinates\": shape (392, 20, 3), type \"<f4\">\n",
      "C10H10N2\n",
      "<HDF5 dataset \"coordinates\": shape (5024, 22, 3), type \"<f4\">\n",
      "C10H10N2O1\n",
      "<HDF5 dataset \"coordinates\": shape (2279, 23, 3), type \"<f4\">\n",
      "C10H10N2O2\n",
      "<HDF5 dataset \"coordinates\": shape (836, 24, 3), type \"<f4\">\n",
      "C10H10N4\n",
      "<HDF5 dataset \"coordinates\": shape (206, 24, 3), type \"<f4\">\n",
      "C10H10N4O1\n",
      "<HDF5 dataset \"coordinates\": shape (6, 25, 3), type \"<f4\">\n",
      "C10H10N4O2\n",
      "<HDF5 dataset \"coordinates\": shape (1, 26, 3), type \"<f4\">\n",
      "C10H10O1\n",
      "<HDF5 dataset \"coordinates\": shape (891, 21, 3), type \"<f4\">\n",
      "C10H10O2\n",
      "<HDF5 dataset \"coordinates\": shape (2457, 22, 3), type \"<f4\">\n",
      "C10H10O3\n",
      "<HDF5 dataset \"coordinates\": shape (1332, 23, 3), type \"<f4\">\n",
      "C10H10O4\n",
      "<HDF5 dataset \"coordinates\": shape (2, 24, 3), type \"<f4\">\n"
     ]
    }
   ],
   "source": [
    "h5=h5py.File('../data/raw/ani1x-release.h5')\n",
    "i=0\n",
    "for mol_id, mol in h5.items():\n",
    "    i+=1\n",
    "    print(mol_id)\n",
    "    print(mol['coordinates'])\n",
    "    if i > 10:\n",
    "        break"
   ]
  },
  {
   "cell_type": "code",
   "execution_count": 55,
   "id": "1c66006e",
   "metadata": {},
   "outputs": [
    {
     "data": {
      "text/plain": [
       "array([[-5.4138284 , -0.75771576,  0.86835414],\n",
       "       [-5.833031  , -0.6192342 , -0.23883416],\n",
       "       [ 4.658886  , -0.21370207,  0.15914038],\n",
       "       [ 2.3964252 , -0.77377456, -0.09710849],\n",
       "       [ 0.9892431 , -0.24829872, -0.03496894],\n",
       "       [-0.01042459, -1.2174957 , -0.24838875],\n",
       "       [-1.3663204 , -0.7943627 , -0.3882946 ],\n",
       "       [-1.6215962 ,  0.55365676, -0.29367042],\n",
       "       [-0.6070149 ,  1.5230325 , -0.03833979],\n",
       "       [ 0.6896958 ,  1.07973   ,  0.09646013],\n",
       "       [ 2.4523394 ,  1.6921273 ,  0.15423027],\n",
       "       [-0.7750403 ,  2.5914414 ,  0.02597871],\n",
       "       [-3.5077484 ,  0.30967784, -0.32253268],\n",
       "       [-2.0966504 , -1.5613397 , -0.5323971 ],\n",
       "       [ 0.22908702, -2.273164  , -0.26069495],\n",
       "       [-6.2273397 , -0.44320774, -1.2196388 ],\n",
       "       [ 4.7410536 ,  0.20425633,  1.2102914 ],\n",
       "       [ 4.7460823 , -1.3248924 ,  0.05455565],\n",
       "       [-5.1947927 , -0.9211874 ,  1.9147341 ],\n",
       "       [ 5.3813295 ,  0.33754265, -0.48397055],\n",
       "       [-2.8696642 ,  1.0404354 , -0.2123683 ],\n",
       "       [ 3.3238075 ,  0.07935118, -0.29368758],\n",
       "       [ 2.6028678 , -1.9046316 ,  0.27050528],\n",
       "       [ 1.5629232 ,  2.0595615 ,  0.32971898]], dtype=float32)"
      ]
     },
     "execution_count": 55,
     "metadata": {},
     "output_type": "execute_result"
    }
   ],
   "source": [
    "mol['coordinates'][1,:,:]"
   ]
  },
  {
   "cell_type": "code",
   "execution_count": 57,
   "id": "b108d733",
   "metadata": {},
   "outputs": [
    {
     "data": {
      "text/plain": [
       "array([[ 1.2115192 ,  0.8993915 , -0.2570809 ],\n",
       "       [ 0.77612734, -0.5346526 ,  0.27177036],\n",
       "       [-0.41029483, -1.2008224 ,  0.28953668],\n",
       "       [-1.8197327 , -0.58063716,  0.17641032],\n",
       "       [-2.2443588 ,  0.6408909 ,  0.81612426],\n",
       "       [-3.569266  ,  1.0048144 ,  0.770135  ],\n",
       "       [-4.431178  ,  0.37576234, -0.07321098],\n",
       "       [-4.064727  , -0.79788   , -0.7392003 ],\n",
       "       [-2.8149607 , -1.340483  , -0.50380945],\n",
       "       [ 5.4733167 , -0.25473493,  0.42011175],\n",
       "       [ 6.54065   , -0.7412719 ,  0.3887838 ],\n",
       "       [ 5.010238  ,  0.15200487,  1.3932282 ],\n",
       "       [-2.5328918 , -2.2629669 , -0.9607925 ],\n",
       "       [-4.7703314 , -1.3412348 , -1.42099   ],\n",
       "       [-5.401633  ,  0.7932593 , -0.2898693 ],\n",
       "       [ 2.699444  , -0.61784345,  0.17958646],\n",
       "       [-1.4968089 ,  1.2524854 ,  1.3945756 ],\n",
       "       [-0.49456802, -2.2887738 ,  0.22355762],\n",
       "       [ 0.67370975,  2.4347246 , -1.0411205 ],\n",
       "       [-3.890047  ,  1.9481671 ,  1.2968467 ],\n",
       "       [ 1.9048009 , -1.1965039 ,  0.4993091 ],\n",
       "       [ 0.2714197 ,  1.7475379 , -0.5134529 ],\n",
       "       [ 2.3785741 ,  1.1064887 , -0.4120423 ],\n",
       "       [ 4.823151  , -0.23232837, -0.5973797 ]], dtype=float32)"
      ]
     },
     "execution_count": 57,
     "metadata": {},
     "output_type": "execute_result"
    }
   ],
   "source": [
    "mol['coordinates'][0,:,:]"
   ]
  },
  {
   "cell_type": "code",
   "execution_count": null,
   "id": "e545433e",
   "metadata": {},
   "outputs": [],
   "source": []
  }
 ],
 "metadata": {
  "kernelspec": {
   "display_name": "chemjepa",
   "language": "python",
   "name": "chemjepa"
  },
  "language_info": {
   "codemirror_mode": {
    "name": "ipython",
    "version": 3
   },
   "file_extension": ".py",
   "mimetype": "text/x-python",
   "name": "python",
   "nbconvert_exporter": "python",
   "pygments_lexer": "ipython3",
   "version": "3.11.9"
  }
 },
 "nbformat": 4,
 "nbformat_minor": 5
}
