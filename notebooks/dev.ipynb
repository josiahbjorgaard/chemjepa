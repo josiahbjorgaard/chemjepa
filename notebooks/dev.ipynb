{
 "cells": [
  {
   "cell_type": "code",
   "execution_count": 1,
   "id": "53150d88",
   "metadata": {},
   "outputs": [
    {
     "data": {
      "text/plain": [
       "('NCCC(CCO)CCBr', 'NCCC(CCO)CCBr')"
      ]
     },
     "execution_count": 1,
     "metadata": {},
     "output_type": "execute_result"
    }
   ],
   "source": [
    "from rdkit import Chem\n",
    "mol = Chem.MolFromSmiles(\"BrCCC(CCO)CCN\")\n",
    "canonical_atom_order = Chem.CanonicalRankAtoms(mol)\n",
    "tuple(canonical_atom_order)\n",
    "(2, 5, 8, 9, 7, 4, 1, 6, 3, 0)\n",
    "canonical_atom_order_inverted = tuple(zip(*sorted((j, i) for i, j in enumerate(canonical_atom_order))))[1]\n",
    "canonical_atom_order_inverted\n",
    "(9, 6, 0, 8, 5, 1, 7, 4, 2, 3)\n",
    "canonical_mol = Chem.RenumberAtoms(mol, canonical_atom_order_inverted)\n",
    "Chem.MolToSmiles(mol, canonical=True), Chem.MolToSmiles(canonical_mol, canonical=False)\n",
    "('NCCC(CCO)CCBr', 'NCCC(CCO)CCBr')"
   ]
  },
  {
   "cell_type": "code",
   "execution_count": 8,
   "id": "213d1f9d",
   "metadata": {},
   "outputs": [],
   "source": [
    "import sys\n",
    "sys.path.append('/efs-private/chemjepa/chemjepa')\n",
    "from utils.tokenizer import BasicSmilesTokenizer\n",
    "from utils.smiles import rotate_smiles"
   ]
  },
  {
   "cell_type": "code",
   "execution_count": 9,
   "id": "d0de1ead",
   "metadata": {},
   "outputs": [],
   "source": [
    "tokenizer = BasicSmilesTokenizer()"
   ]
  },
  {
   "cell_type": "code",
   "execution_count": 11,
   "id": "31ca020b",
   "metadata": {},
   "outputs": [
    {
     "data": {
      "text/plain": [
       "['N', 'C', 'C', 'C', '(', 'C', 'C', 'O', ')', 'C', 'C', 'Br']"
      ]
     },
     "execution_count": 11,
     "metadata": {},
     "output_type": "execute_result"
    }
   ],
   "source": [
    "tokenizer.tokenize('NCCC(CCO)CCBr')"
   ]
  },
  {
   "cell_type": "code",
   "execution_count": null,
   "id": "f8d84775",
   "metadata": {},
   "outputs": [],
   "source": []
  }
 ],
 "metadata": {
  "kernelspec": {
   "display_name": "Python 3 (ipykernel)",
   "language": "python",
   "name": "python3"
  },
  "language_info": {
   "codemirror_mode": {
    "name": "ipython",
    "version": 3
   },
   "file_extension": ".py",
   "mimetype": "text/x-python",
   "name": "python",
   "nbconvert_exporter": "python",
   "pygments_lexer": "ipython3",
   "version": "3.9.16"
  }
 },
 "nbformat": 4,
 "nbformat_minor": 5
}
