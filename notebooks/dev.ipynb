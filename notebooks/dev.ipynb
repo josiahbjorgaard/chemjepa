{
 "cells": [
  {
   "cell_type": "code",
   "execution_count": 1,
   "id": "d9130cb1",
   "metadata": {},
   "outputs": [
    {
     "data": {
      "text/plain": [
       "('NCCC(CCO)CCBr', 'NCCC(CCO)CCBr')"
      ]
     },
     "execution_count": 1,
     "metadata": {},
     "output_type": "execute_result"
    }
   ],
   "source": [
    "from rdkit import Chem\n",
    "mol = Chem.MolFromSmiles(\"BrCCC(CCO)CCN\")\n",
    "canonical_atom_order = Chem.CanonicalRankAtoms(mol)\n",
    "tuple(canonical_atom_order)\n",
    "(2, 5, 8, 9, 7, 4, 1, 6, 3, 0)\n",
    "canonical_atom_order_inverted = tuple(zip(*sorted((j, i) for i, j in enumerate(canonical_atom_order))))[1]\n",
    "canonical_atom_order_inverted\n",
    "(9, 6, 0, 8, 5, 1, 7, 4, 2, 3)\n",
    "canonical_mol = Chem.RenumberAtoms(mol, canonical_atom_order_inverted)\n",
    "Chem.MolToSmiles(mol, canonical=True), Chem.MolToSmiles(canonical_mol, canonical=False)\n",
    "('NCCC(CCO)CCBr', 'NCCC(CCO)CCBr')"
   ]
  },
  {
   "cell_type": "code",
   "execution_count": 86,
   "id": "19cfd179",
   "metadata": {},
   "outputs": [],
   "source": [
    "import sys\n",
    "sys.path.append('/efs-private/chemjepa/chemjepa')\n",
    "from utils.tokenizer import BasicSmilesTokenizer, SmilesTokenizer\n",
    "from utils.smiles import rotate_smiles, absolute_smiles"
   ]
  },
  {
   "cell_type": "code",
   "execution_count": 17,
   "id": "df9e0f01",
   "metadata": {},
   "outputs": [],
   "source": [
    "basictokenizer = BasicSmilesTokenizer()\n",
    "tokenizer = SmilesTokenizer('vocab.txt')"
   ]
  },
  {
   "cell_type": "code",
   "execution_count": 275,
   "id": "9f42bb63",
   "metadata": {},
   "outputs": [
    {
     "data": {
      "text/plain": [
       "256"
      ]
     },
     "execution_count": 275,
     "metadata": {},
     "output_type": "execute_result"
    }
   ],
   "source": [
    "tokenizer.vocab['*']"
   ]
  },
  {
   "cell_type": "code",
   "execution_count": 37,
   "id": "93929645",
   "metadata": {},
   "outputs": [],
   "source": [
    "s = 'NCCC(CCO)CCBr'\n",
    "def test_len(s):\n",
    "    #s = s['0'].value\n",
    "    return len(tokenizer.encode(s))-2 == len(tokenizer.tokenize(s))"
   ]
  },
  {
   "cell_type": "code",
   "execution_count": 32,
   "id": "be24d2df",
   "metadata": {},
   "outputs": [],
   "source": [
    "import pandas as pd\n",
    "df = pd.read_csv('pubchem-10m.txt', header = None)"
   ]
  },
  {
   "cell_type": "code",
   "execution_count": 43,
   "id": "b44dac6b",
   "metadata": {},
   "outputs": [
    {
     "data": {
      "text/plain": [
       "10000"
      ]
     },
     "execution_count": 43,
     "metadata": {},
     "output_type": "execute_result"
    }
   ],
   "source": [
    "df[0][0:10000].apply(test_len).sum()"
   ]
  },
  {
   "cell_type": "code",
   "execution_count": 45,
   "id": "2aef9ede",
   "metadata": {},
   "outputs": [],
   "source": [
    "toks = df[0][0:10000].apply(tokenizer.encode)"
   ]
  },
  {
   "cell_type": "code",
   "execution_count": 52,
   "id": "8585cf5a",
   "metadata": {},
   "outputs": [],
   "source": [
    "def con(s):\n",
    "    return \"\".join(tokenizer.convert_ids_to_tokens(s[1:-1]))"
   ]
  },
  {
   "cell_type": "code",
   "execution_count": 53,
   "id": "48c129b1",
   "metadata": {},
   "outputs": [],
   "source": [
    "res = toks.apply(con)"
   ]
  },
  {
   "cell_type": "code",
   "execution_count": 58,
   "id": "bc17b73e",
   "metadata": {},
   "outputs": [
    {
     "name": "stdout",
     "output_type": "stream",
     "text": [
      "2026    CCC(C)C(NC(=O)C(CCCC[NH3+])NC(=O)C(CCC(=O)[O-]...\n",
      "4118    CC(N)C(=O)NC(C(=O)NC(C)C(=O)OCc1ccc(OCc2ccc([U...\n",
      "4521    CCC(C)C(NC(=O)CNC(=O)C(Cc1c[nH]c2ccccc12)NC(=O...\n",
      "5225                                          S[I-][UNK]I\n",
      "Name: 0, dtype: object\n"
     ]
    }
   ],
   "source": [
    "print(res[res != df[0][0:10000]]) #All non reconstructed have UNK token"
   ]
  },
  {
   "cell_type": "code",
   "execution_count": 190,
   "id": "35f3a17a",
   "metadata": {},
   "outputs": [
    {
     "name": "stdout",
     "output_type": "stream",
     "text": [
      "(1, 12, 2, 9, 7, 8, 14, 4, 10, 15, 5, 3, 13, 11, 0, 6, 16)\n",
      "['C', 'C', '(', '=', 'O', ')', 'N', 'C', 'C', 'c', '1', 'c', '[nH]', 'c', '2', 'c', 'c', 'c', '(', 'O', 'C', ')', 'c', 'c', '1', '2']\n",
      "['C', 'C', '(', '=', '*', ')', '*', 'C', 'C', 'c', '1', 'c', '[*H]', 'c', '2', 'c', 'c', 'c', '(', 'O', 'C', ')', 'c', 'c', '1', '2']\n",
      "COc1ccc2[nH]cc(CCNC(C)=O)c2c1\n",
      "True\n"
     ]
    }
   ],
   "source": [
    "s = absolute_smiles(\"BrCCC(CCO)CCN\")\n",
    "s = absolute_smiles(\"BrCCC(***)CCN\")\n",
    "s = \"CC(=O)NCCc1c[nH]c2ccc(OC)cc12\"\n",
    "sr = \"CC(=*)*CCc1c[*H]c2ccc(OC)cc12\"\n",
    "#s = df[0][999]\n",
    "\n",
    "r=3\n",
    "mol = Chem.MolFromSmiles(s)\n",
    "canonical_atom_order = Chem.CanonicalRankAtoms(mol)\n",
    "print(tuple(canonical_atom_order))\n",
    "s2 = rotate_smiles(s,r)\n",
    "mol2 = Chem.MolFromSmiles(s2)\n",
    "canonical_atom_order2 = Chem.CanonicalRankAtoms(mol2)\n",
    "#print(tuple(canonical_atom_order2))\n",
    "#print(s)\n",
    "print(basictokenizer.tokenize(s))\n",
    "#print(s2)\n",
    "print(basictokenizer.tokenize(sr))\n",
    "print(absolute_smiles(s))\n",
    "print(len(basictokenizer.tokenize(s))==len(basictokenizer.tokenize(sr)))\n",
    "#Rules\n",
    "# If numbers follow atoms, also mask\n",
    "# If bond precedes mask token, also mask\n",
    "# If entire internal to parentheses is masked, also mask parentheses?\n",
    "# If any * in a single token, mask whole token\n",
    "# Adjacent atoms can be masked, atoms with same next number are adjacent"
   ]
  },
  {
   "cell_type": "code",
   "execution_count": 333,
   "id": "3e35469e",
   "metadata": {},
   "outputs": [],
   "source": [
    "#When you transform, a different number of tokens may be masked. \n",
    "#That's ok, but the number of tokens to predict and their positions must\n",
    "#Be fed to the predictor along with the transformation\n",
    "\n",
    "# 1.) Masker - character-wise masking\n",
    "# 2.) Parser - standard parser + Mask token Fixup (Changes * to <MASK>)\n",
    "# 3.) SmilesTokenizer - With Mask Tokens Pre-included\n",
    "from itertools import cycle\n",
    "from rdkit import Chem\n",
    "import torch.nn as nn\n",
    "import random\n",
    "from collections import deque\n",
    "import copy\n",
    "\n",
    "class SmilesTransformations(nn.Module):\n",
    "    def __init__(self,\n",
    "                mask_size=4,\n",
    "                **kwargs):\n",
    "        super().__init__()\n",
    "        self.mask_size=4\n",
    "        self.init_parser = BasicSmilesTokenizer()\n",
    "        \n",
    "    def _set_dummy(self, atom):\n",
    "        return atom.SetAtomicNum(0)\n",
    "    \n",
    "    def _get_n_neighbors(self, seed_atom, n):\n",
    "        \"Recursive connected atom search\"\n",
    "        neighbors = seed_atom.GetNeighbors()\n",
    "        ret_n = set()\n",
    "        for ne in neighbors:\n",
    "            ret_n.add(ne)\n",
    "            if len(ret_n) == n:\n",
    "                return ret_n\n",
    "        for ne in ret_n:\n",
    "            ret_n = ret_n.union(self._get_n_neighbors(ne, n=n-len(ret_n)))\n",
    "            if len(ret_n) == n:\n",
    "                return ret_n\n",
    "    \n",
    "    def mask(self, smiles, seed=-1):\n",
    "        mol = Chem.MolFromSmiles(smiles)\n",
    "        if seed < 0:\n",
    "            seed = random.randint(0,len(mol.GetAtoms()))\n",
    "        #Tag atoms and then rotate instead of set up dummy?\n",
    "        assert seed <= len(mol.GetAtoms())\n",
    "        seed_atom = tuple(mol.GetAtoms())[seed]\n",
    "        atoms_to_mask = self._get_n_neighbors(seed_atom, self.mask_size)\n",
    "        atom_ns = {atom.GetIdx() for atom in atoms_to_mask}\n",
    "        for atom in mol.GetAtoms():\n",
    "            if atom.GetIdx() in atom_ns:\n",
    "                atom.SetAtomicNum(0)\n",
    "        return Chem.MolToSmiles(mol,canonical=False)#.replace(':','')\n",
    "    \n",
    "    def process(self, smiles):\n",
    "        \"\"\"\n",
    "        N.B. We use * token here to additionally mask non-atom tokens\n",
    "        The output is no longer a valid SMILES string and so no-longer\n",
    "        Cleanly Rotatable.\n",
    "        \"\"\"\n",
    "        parsed = self.init_parser.tokenize(smiles.replace(':',''))\n",
    "        parsed = ['*' if '*' in x else x for x in parsed]\n",
    "        for i,j in zip(range(0,len(parsed)-1), range(1,len(parsed))):\n",
    "            if parsed[i] == '=' and parsed[j] == '*':\n",
    "                parsed[i] = '*'\n",
    "            elif parsed[i] == '*' and parsed[j].isnumeric():\n",
    "                parsed[j] = '*'\n",
    "        parsed = self._check_parentheses(parsed)\n",
    "        return \"\".join(parsed)\n",
    "    \n",
    "    def _check_parentheses(self, parsed):\n",
    "        for i in range(len(parsed)):\n",
    "            if parsed[i] == '(':\n",
    "                for j in range(i+1,len(parsed)):\n",
    "                    if parsed[j] == ')':\n",
    "                        parsed[i]='*'\n",
    "                        parsed[j]='*'\n",
    "                        break\n",
    "                    elif parsed[j] != '*':\n",
    "                        break\n",
    "        return parsed\n",
    "    \n",
    "    def rotate_smiles(self, smiles, num): \n",
    "        \"\"\"Perform a rotation of a SMILES string\n",
    "        must be RDKit sanitizable\"\"\"\n",
    "        m = Chem.MolFromSmiles(smiles)\n",
    "        try:\n",
    "            ans = deque(list(range(m.GetNumAtoms())))\n",
    "        except:\n",
    "            print(f\"Warning, could not rotate {smiles}\")\n",
    "            return None\n",
    "        ans.rotate(num)\n",
    "        nm = Chem.RenumberAtoms(Chem.Mol(m),ans)\n",
    "        return Chem.MolToSmiles(nm, canonical=False)#, canonical=canonical, isomericSmiles=isomericSmiles)\n",
    "\n",
    "    \n",
    "    def forward(self, smiles, rot, rot_init=0):\n",
    "        assert isinstance(smiles, str)\n",
    "        assert isinstance(rot, int)\n",
    "        if rot_init > 0:\n",
    "            smiles = self.rotate_smiles(smiles, rot_init)\n",
    "        masked_smiles = self.mask(smiles)\n",
    "        rotated_smiles = self.rotate_smiles(masked_smiles, rot)\n",
    "        #masked_smiles, rotated_smiles = Chem.MolToSmiles(masked_mol), Chem.MolToSmiles(rotated_mol)\n",
    "        return self.process(masked_smiles), self.process(rotated_smiles)\n",
    "        \n",
    "                "
   ]
  },
  {
   "cell_type": "code",
   "execution_count": 334,
   "id": "52f2db1c",
   "metadata": {},
   "outputs": [
    {
     "name": "stdout",
     "output_type": "stream",
     "text": [
      "('COc1cc2*(CCNC(C)=O)****cc1', 'COc1cc2*(CCNC(C)=O)****cc1')\n",
      "('c1c(OC)cc2*(***C(C)=O)c[nH]c2c1', 'c1cc(OC)cc2*(***C(C)=O)c[nH]c12')\n",
      "('c1c*(OC)****(CCNC(C)=O)c[nH]c12', '[nH]1c2cc*(OC)****(CCNC(C)=O)c1')\n",
      "('c12ccc(OC)cc1c(CC*******)c[nH]2', '***(*CCc1c[nH]c2ccc(OC)cc21)*')\n",
      "('[nH]1c2ccc(OC)c***(*CNC(C)=O)**', 'C(C)(=O)NC****[nH]c2ccc(OC)c***')\n",
      "('c1[nH]c2ccc(OC)cc2c1CC*******', 'C(*******)Cc1c[nH]c2ccc(OC)cc21')\n",
      "('***(*CCc1c[nH]c2ccc(OC)cc12)*', 'c1(OC)cc2c(CC*******)c[nH]c2cc1')\n",
      "('*******CCc1c[nH]c2ccc(OC)cc12', 'c1cc(OC)cc2c(CC*******)c[nH]c12')\n",
      "('C(C)(=O)NCC**c***ccc(OC)*c12', '*****C*(CCNC(C)=O)C1*=C(OC)C=C2')\n",
      "('*(******)CCc1c[nH]c2ccc(OC)cc12', '[nH]1c2ccc(OC)cc2c(CC*******)c1')\n",
      "('C(NC(C)=O)Cc1c[nH]c2cc*****cc12', 'c1[nH]c2cc*****cc2c1CCNC(C)=O')\n",
      "('C(CNC(C)=O)******ccc(OC)cc12', '**(CCNC(C)=O)****ccc(OC)cc12')\n",
      "('**(***C(C)=O)c[nH]c2ccc(OC)cc12', 'CC(=O)*****c[nH]c2ccc(OC)cc21')\n",
      "('****(*CNC(C)=O)*[nH]c1ccc(OC)c2', 'N(C(C)=O)C****[nH]c2ccc(OC)c***')\n",
      "('c1c2c(CCNC(C)=O)c[nH]c2cc****', 'C(CNC(C)=O)c1c[nH]c2cc*****cc21')\n",
      "('c1(OC)***c(CCNC(C)=O)c*c2*c1', 'COC1****=C(CCNC(C)=O)C**C2*=C1')\n",
      "('O(c1cc2c(CC*******)c[nH]c2cc1)C', 'c1(OC)cc2c(CC*******)c[nH]c2cc1')\n"
     ]
    }
   ],
   "source": [
    "masker=  SmilesTransformations()\n",
    "#print(masker.check_parentheses('CC(***)CC'))\n",
    "for i in range(17):\n",
    "    print(masker(s2, i, i))#, i))\n",
    "#Chem.MolToSmiles(mol)"
   ]
  },
  {
   "cell_type": "code",
   "execution_count": 238,
   "id": "9e1c3516",
   "metadata": {},
   "outputs": [
    {
     "name": "stdout",
     "output_type": "stream",
     "text": [
      "[0, 1, 2, 3]\n"
     ]
    }
   ],
   "source": [
    "from itertools import cycle\n",
    "\n",
    "li = [0, 1, 2, 3]\n",
    "\n",
    "running = True\n",
    "licycle = cycle(li)\n",
    "# Prime the pump\n",
    "nextelem = next(licycle)\n",
    "for i in range(len(li)-1):\n",
    "    thiselem, nextelem = nextelem, next(licycle)\n",
    "    nextelem=99\n",
    "print(li)"
   ]
  },
  {
   "cell_type": "code",
   "execution_count": 134,
   "id": "9021efb6",
   "metadata": {},
   "outputs": [
    {
     "name": "stdout",
     "output_type": "stream",
     "text": [
      "COc1ccc2[nH]cc(CCNC(C)=O)c2c1\n"
     ]
    },
    {
     "data": {
      "image/png": "[encoded data removed]",
      "text/plain": [
       "<rdkit.Chem.rdchem.Mol at 0x7f6744ac42e0>"
      ]
     },
     "execution_count": 134,
     "metadata": {},
     "output_type": "execute_result"
    }
   ],
   "source": [
    "# Iterate over the atoms\n",
    "print(Chem.MolToSmiles(mol))\n",
    "for i, atom in enumerate(mol.GetAtoms()):\n",
    "    # For each atom, set the property \"atomLabel\" to a custom value, let's say a1, a2, a3,...\n",
    "    atom.SetProp(\"atomLabel\", f\"a{i+1}\")\n",
    "\n",
    "mol"
   ]
  },
  {
   "cell_type": "code",
   "execution_count": 189,
   "id": "6896ca0e",
   "metadata": {},
   "outputs": [
    {
     "data": {
      "image/png": "[encoded data removed]",
      "text/plain": [
       "<rdkit.Chem.rdchem.Mol at 0x7f6744ac42e0>"
      ]
     },
     "execution_count": 189,
     "metadata": {},
     "output_type": "execute_result"
    }
   ],
   "source": [
    "# Iterate over the atoms\n",
    "for i, atom in enumerate(mol.GetAtoms()):\n",
    "    # For each atom, set the property \"atomLabel\" to a custom value, let's say a1, a2, a3,...\n",
    "    atom.SetProp(\"atomLabel\", f\"a{canonical_atom_order[i]}\")\n",
    "mol"
   ]
  },
  {
   "cell_type": "code",
   "execution_count": 137,
   "id": "8e9e0541",
   "metadata": {},
   "outputs": [
    {
     "name": "stdout",
     "output_type": "stream",
     "text": [
      "(<rdkit.Chem.rdchem.Atom object at 0x7f6744ac46d0>,)\n",
      "(<rdkit.Chem.rdchem.Atom object at 0x7f6744ac4900>, <rdkit.Chem.rdchem.Atom object at 0x7f6744ac4040>)\n",
      "(<rdkit.Chem.rdchem.Atom object at 0x7f6744ac46d0>, <rdkit.Chem.rdchem.Atom object at 0x7f6744ac4040>, <rdkit.Chem.rdchem.Atom object at 0x7f6744ac47b0>)\n",
      "(<rdkit.Chem.rdchem.Atom object at 0x7f6744ac4900>, <rdkit.Chem.rdchem.Atom object at 0x7f6744ac4040>)\n",
      "(<rdkit.Chem.rdchem.Atom object at 0x7f6744ac46d0>, <rdkit.Chem.rdchem.Atom object at 0x7f6744ac4040>, <rdkit.Chem.rdchem.Atom object at 0x7f6744ac47b0>)\n",
      "(<rdkit.Chem.rdchem.Atom object at 0x7f6744ac4900>, <rdkit.Chem.rdchem.Atom object at 0x7f6744ac4040>, <rdkit.Chem.rdchem.Atom object at 0x7f6744ac47b0>)\n",
      "(<rdkit.Chem.rdchem.Atom object at 0x7f6744ac46d0>, <rdkit.Chem.rdchem.Atom object at 0x7f6744ac4040>)\n",
      "(<rdkit.Chem.rdchem.Atom object at 0x7f6744ac4900>, <rdkit.Chem.rdchem.Atom object at 0x7f6744ac4040>)\n",
      "(<rdkit.Chem.rdchem.Atom object at 0x7f6744ac46d0>, <rdkit.Chem.rdchem.Atom object at 0x7f6744ac4040>)\n",
      "(<rdkit.Chem.rdchem.Atom object at 0x7f6744ac4900>, <rdkit.Chem.rdchem.Atom object at 0x7f6744ac4040>, <rdkit.Chem.rdchem.Atom object at 0x7f6744ac47b0>)\n",
      "(<rdkit.Chem.rdchem.Atom object at 0x7f6744ac46d0>,)\n",
      "(<rdkit.Chem.rdchem.Atom object at 0x7f6744ac4900>,)\n",
      "(<rdkit.Chem.rdchem.Atom object at 0x7f6744ac46d0>, <rdkit.Chem.rdchem.Atom object at 0x7f6744ac4040>)\n",
      "(<rdkit.Chem.rdchem.Atom object at 0x7f6744ac4900>, <rdkit.Chem.rdchem.Atom object at 0x7f6744ac4040>)\n",
      "(<rdkit.Chem.rdchem.Atom object at 0x7f6744ac46d0>, <rdkit.Chem.rdchem.Atom object at 0x7f6744ac4040>, <rdkit.Chem.rdchem.Atom object at 0x7f6744ac4a50>)\n",
      "(<rdkit.Chem.rdchem.Atom object at 0x7f6744ac4900>, <rdkit.Chem.rdchem.Atom object at 0x7f6744ac4040>)\n",
      "(<rdkit.Chem.rdchem.Atom object at 0x7f6744ac46d0>, <rdkit.Chem.rdchem.Atom object at 0x7f6744ac4040>)\n"
     ]
    },
    {
     "data": {
      "image/png": "[encoded data removed]",
      "text/plain": [
       "<rdkit.Chem.rdchem.Mol at 0x7f6744ac4430>"
      ]
     },
     "execution_count": 137,
     "metadata": {},
     "output_type": "execute_result"
    }
   ],
   "source": [
    "# Iterate over the atoms\n",
    "for i, atom in enumerate(mol2.GetAtoms()):\n",
    "    # For each atom, set the property \"atomLabel\" to a custom value, let's say a1, a2, a3,...\n",
    "    #atom.SetProp(\"atomLabel\", f\"a{canonical_atom_order2[i]}\")\n",
    "    print(atom.GetNeighbors())\n",
    "\n",
    "mol2"
   ]
  },
  {
   "cell_type": "code",
   "execution_count": 125,
   "id": "97edd1df",
   "metadata": {},
   "outputs": [
    {
     "name": "stdout",
     "output_type": "stream",
     "text": [
      "0\n",
      "0\n",
      "0\n",
      "*1**1\n"
     ]
    }
   ],
   "source": [
    "m = Chem.MolFromSmiles('C1OC1')\n",
    "for atom in m.GetAtoms():\n",
    "  atom.SetAtomicNum(0)\n",
    "  print(atom.GetAtomicNum())\n",
    "print(Chem.MolToSmiles(m))"
   ]
  },
  {
   "cell_type": "code",
   "execution_count": null,
   "id": "da170a7e",
   "metadata": {},
   "outputs": [],
   "source": [
    "#If the connecting number is masked, mask the connecting number"
   ]
  }
 ],
 "metadata": {
  "kernelspec": {
   "display_name": "Python 3 (ipykernel)",
   "language": "python",
   "name": "python3"
  },
  "language_info": {
   "codemirror_mode": {
    "name": "ipython",
    "version": 3
   },
   "file_extension": ".py",
   "mimetype": "text/x-python",
   "name": "python",
   "nbconvert_exporter": "python",
   "pygments_lexer": "ipython3",
   "version": "3.9.16"
  }
 },
 "nbformat": 4,
 "nbformat_minor": 5
}
